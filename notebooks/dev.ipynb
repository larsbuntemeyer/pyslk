{
 "cells": [
  {
   "cell_type": "code",
   "execution_count": 1,
   "metadata": {},
   "outputs": [],
   "source": [
    "%load_ext autoreload\n",
    "%autoreload 2"
   ]
  },
  {
   "cell_type": "code",
   "execution_count": 2,
   "metadata": {},
   "outputs": [],
   "source": [
    "from pyslk import pyslk as slk"
   ]
  },
  {
   "cell_type": "code",
   "execution_count": null,
   "metadata": {},
   "outputs": [],
   "source": [
    "slk.user()"
   ]
  },
  {
   "cell_type": "code",
   "execution_count": null,
   "metadata": {},
   "outputs": [],
   "source": [
    "slk.test()"
   ]
  },
  {
   "cell_type": "code",
   "execution_count": 22,
   "metadata": {},
   "outputs": [
    {
     "data": {
      "text/plain": [
       "(b'Unhandled error occurred, please check logs\\n', None)"
      ]
     },
     "execution_count": 22,
     "metadata": {},
     "output_type": "execute_result"
    }
   ],
   "source": [
    "slk.user()"
   ]
  },
  {
   "cell_type": "code",
   "execution_count": null,
   "metadata": {},
   "outputs": [],
   "source": [
    "slk.ls(\"/hsm\", decode=\"pandas\")"
   ]
  },
  {
   "cell_type": "code",
   "execution_count": 80,
   "metadata": {},
   "outputs": [
    {
     "data": {
      "text/plain": [
       "['drwxr-xr-x- a270061     group900               07 Apr 2021  a270061',\n",
       " 'drwxr-xr-x- a271052     group900               07 Apr 2021  a271052',\n",
       " 'drwxr-xr-x- a271073     group900               07 Apr 2021  a271073',\n",
       " 'drwxr-xr-x- k202059     group900               07 May 2021  arch',\n",
       " 'drwxr-xr-x- b302011     group900               07 Apr 2021  b302011',\n",
       " 'drwxr-xr-x- b302019     group900               07 Apr 2021  b302019',\n",
       " 'drwxr-xr-x- b309159     group900               07 Apr 2021  b309159',\n",
       " 'drwxr-xr-x- b350071     group900               07 Apr 2021  b350071',\n",
       " 'drwxr-xr-x- a270061     group900               07 Apr 2021  bla',\n",
       " 'drwxr-xr-x- radium      group900               23 Feb 2021  data',\n",
       " 'drwxr-xr-x- g262012     group900               07 Apr 2021  g262012',\n",
       " 'drwxr-xr-x- g266021     group900               07 Apr 2021  g266021',\n",
       " 'drwxr-xr-x- g300046     group900               07 Apr 2021  g300046',\n",
       " 'drwxr-xr-x- g300047     group900               07 Apr 2021  g300047',\n",
       " 'drwxr-xr-x- k202009     group900               07 Apr 2021  k202009',\n",
       " 'drwxr-xr-x- k202034     group900               07 Apr 2021  k202034',\n",
       " 'drwxr-xr-x- k202051     group900               07 Apr 2021  k202051',\n",
       " 'drwxr-xr-x- k202059     k20200                 31 Mar 2021  k202059',\n",
       " 'drwxr-xr-x- k202072     group900               07 Apr 2021  k202072',\n",
       " 'drwxr-xr-x- k202082     group900               07 Apr 2021  k202082',\n",
       " 'drwxr-xr-x- k202121     group900               07 Apr 2021  k202121',\n",
       " 'drwxr-xr-x- k202123     group900               07 Apr 2021  k202123',\n",
       " 'drwxr-xr-x- k202134     group900               07 Apr 2021  k202134',\n",
       " 'drwxr-xr-x- k202147     group900               06 Apr 2021  k202147',\n",
       " 'drwxr-xr-x- k204206     group900               07 Apr 2021  k204206',\n",
       " 'drwxr-xr-x- k204206     group900               07 Apr 2021  k204206_test',\n",
       " 'drwxr-xr-x- k204210     group900               07 Apr 2021  k204210',\n",
       " 'drwxr-xr-x- k204212     group900               07 Apr 2021  k204212',\n",
       " 'drwxr-xr-x- k204216     group900               07 Apr 2021  k204216',\n",
       " 'drwxr-xr-x- k204221     group900               18 May 2021  k204221',\n",
       " 'drwxr-xr-x- k204229     group900               07 Apr 2021  k204229',\n",
       " 'drwxr-xr-x- m211076     group900               07 Apr 2021  m211076',\n",
       " 'drwxr-xr-x- m214002     group900               07 Apr 2021  m214002',\n",
       " 'drwxr-xr-x- m214013     group900               07 Apr 2021  m214013',\n",
       " 'drwxr-xr-x- m214042     group900               07 Apr 2021  m214042',\n",
       " 'drwxr-xr-x- m220053     group900               07 Apr 2021  m220053',\n",
       " 'drwxr-xr-x- m221078     group900               07 Apr 2021  m221078',\n",
       " 'drwxr-xr-x- m300083     group900               07 Apr 2021  m300083',\n",
       " 'drwxr-xr-x- m300792     group900               07 Apr 2021  m300792',\n",
       " 'drwxrwxr-x- radium      1180                   07 Apr 2021  mh0287',\n",
       " 'drwxrwxr-x- k204221     dm                     07 Apr 2021  prepared',\n",
       " 'drwxr-xr-x- radium      group900               23 Feb 2021  subsubdir',\n",
       " 'drwxrwxrwx- radium      group900               23 Mar 2021  testing',\n",
       " '-rwxr-xr-x- a270061     2100           28.8K   20 Feb 2019  exp.nh_rcemip_lem_small_300_3km.run',\n",
       " 'Files: 44',\n",
       " '']"
      ]
     },
     "execution_count": 80,
     "metadata": {},
     "output_type": "execute_result"
    }
   ],
   "source": [
    "out"
   ]
  },
  {
   "cell_type": "code",
   "execution_count": 82,
   "metadata": {},
   "outputs": [
    {
     "data": {
      "text/html": [
       "<div>\n",
       "<style scoped>\n",
       "    .dataframe tbody tr th:only-of-type {\n",
       "        vertical-align: middle;\n",
       "    }\n",
       "\n",
       "    .dataframe tbody tr th {\n",
       "        vertical-align: top;\n",
       "    }\n",
       "\n",
       "    .dataframe thead th {\n",
       "        text-align: right;\n",
       "    }\n",
       "</style>\n",
       "<table border=\"1\" class=\"dataframe\">\n",
       "  <thead>\n",
       "    <tr style=\"text-align: right;\">\n",
       "      <th></th>\n",
       "    </tr>\n",
       "  </thead>\n",
       "  <tbody>\n",
       "    <tr>\n",
       "      <th>0</th>\n",
       "    </tr>\n",
       "    <tr>\n",
       "      <th>1</th>\n",
       "    </tr>\n",
       "    <tr>\n",
       "      <th>2</th>\n",
       "    </tr>\n",
       "    <tr>\n",
       "      <th>3</th>\n",
       "    </tr>\n",
       "    <tr>\n",
       "      <th>4</th>\n",
       "    </tr>\n",
       "    <tr>\n",
       "      <th>...</th>\n",
       "    </tr>\n",
       "    <tr>\n",
       "      <th>105</th>\n",
       "    </tr>\n",
       "    <tr>\n",
       "      <th>106</th>\n",
       "    </tr>\n",
       "    <tr>\n",
       "      <th>107</th>\n",
       "    </tr>\n",
       "    <tr>\n",
       "      <th>108</th>\n",
       "    </tr>\n",
       "    <tr>\n",
       "      <th>109</th>\n",
       "    </tr>\n",
       "  </tbody>\n",
       "</table>\n",
       "<p>110 rows × 0 columns</p>\n",
       "</div>"
      ],
      "text/plain": [
       "Empty DataFrame\n",
       "Columns: []\n",
       "Index: [0, 1, 2, 3, 4, 5, 6, 7, 8, 9, 10, 11, 12, 13, 14, 15, 16, 17, 18, 19, 20, 21, 22, 23, 24, 25, 26, 27, 28, 29, 30, 31, 32, 33, 34, 35, 36, 37, 38, 39, 40, 41, 42, 43, 44, 45, 46, 47, 48, 49, 50, 51, 52, 53, 54, 55, 56, 57, 58, 59, 60, 61, 62, 63, 64, 65, 66, 67, 68, 69, 70, 71, 72, 73, 74, 75, 76, 77, 78, 79, 80, 81, 82, 83, 84, 85, 86, 87, 88, 89, 90, 91, 92, 93, 94, 95, 96, 97, 98, 99, ...]\n",
       "\n",
       "[110 rows x 0 columns]"
      ]
     },
     "execution_count": 82,
     "metadata": {},
     "output_type": "execute_result"
    }
   ],
   "source": [
    "slk.ls(decode=\"pandas\")"
   ]
  },
  {
   "cell_type": "code",
   "execution_count": 186,
   "metadata": {},
   "outputs": [],
   "source": [
    "from pyslk import pyslk as slk"
   ]
  },
  {
   "cell_type": "code",
   "execution_count": 241,
   "metadata": {},
   "outputs": [
    {
     "data": {
      "text/plain": [
       "0     /hsm/g300046/conventions\n",
       "1    /hsm/g300046/conventions2\n",
       "2           /hsm/g300046/model\n",
       "3          /hsm/g300046/model2\n",
       "4       /hsm/g300046/dummy.txt\n",
       "5        /hsm/g300046/test.txt\n",
       "6       /hsm/g300046/test2.txt\n",
       "Name: name, dtype: object"
      ]
     },
     "execution_count": 241,
     "metadata": {},
     "output_type": "execute_result"
    }
   ],
   "source": [
    "out = slk.ls(\"/hsm/g300046\", recursive=False, decode=\"pandas\")\n"
   ]
  },
  {
   "cell_type": "code",
   "execution_count": 242,
   "metadata": {},
   "outputs": [
    {
     "data": {
      "text/plain": [
       "['/hsm/g300046/conventions',\n",
       " '/hsm/g300046/conventions2',\n",
       " '/hsm/g300046/model',\n",
       " '/hsm/g300046/model2',\n",
       " '/hsm/g300046/dummy.txt',\n",
       " '/hsm/g300046/test.txt',\n",
       " '/hsm/g300046/test2.txt']"
      ]
     },
     "execution_count": 242,
     "metadata": {},
     "output_type": "execute_result"
    }
   ],
   "source": [
    "list(out.name)"
   ]
  },
  {
   "cell_type": "code",
   "execution_count": null,
   "metadata": {},
   "outputs": [],
   "source": []
  }
 ],
 "metadata": {
  "kernelspec": {
   "display_name": "pyremo",
   "language": "python",
   "name": "pyremo"
  },
  "language_info": {
   "codemirror_mode": {
    "name": "ipython",
    "version": 3
   },
   "file_extension": ".py",
   "mimetype": "text/x-python",
   "name": "python",
   "nbconvert_exporter": "python",
   "pygments_lexer": "ipython3",
   "version": "3.9.2"
  }
 },
 "nbformat": 4,
 "nbformat_minor": 4
}
